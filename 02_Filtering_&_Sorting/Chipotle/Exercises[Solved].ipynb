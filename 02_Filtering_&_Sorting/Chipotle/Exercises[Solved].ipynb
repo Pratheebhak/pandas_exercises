{
  "nbformat": 4,
  "nbformat_minor": 0,
  "metadata": {
    "kernelspec": {
      "display_name": "Python 2",
      "language": "python",
      "name": "python2"
    },
    "language_info": {
      "codemirror_mode": {
        "name": "ipython",
        "version": 2
      },
      "file_extension": ".py",
      "mimetype": "text/x-python",
      "name": "python",
      "nbconvert_exporter": "python",
      "pygments_lexer": "ipython2",
      "version": "2.7.11"
    },
    "colab": {
      "name": "Exercises.ipynb",
      "provenance": []
    }
  },
  "cells": [
    {
      "cell_type": "markdown",
      "metadata": {
        "id": "XyVDU2CWIZJ4"
      },
      "source": [
        "# Ex1 - Filtering and Sorting Data"
      ]
    },
    {
      "cell_type": "markdown",
      "metadata": {
        "id": "verkwGXcIZKE"
      },
      "source": [
        "This time we are going to pull data directly from the internet.\n",
        "Special thanks to: https://github.com/justmarkham for sharing the dataset and materials.\n",
        "\n",
        "### Step 1. Import the necessary libraries"
      ]
    },
    {
      "cell_type": "code",
      "metadata": {
        "id": "8J73mcZiIZKG"
      },
      "source": [
        "import numpy as np\r\n",
        "import pandas as pd"
      ],
      "execution_count": 1,
      "outputs": []
    },
    {
      "cell_type": "markdown",
      "metadata": {
        "id": "dZvwE7RrIZKH"
      },
      "source": [
        "### Step 2. Import the dataset from this [address](https://raw.githubusercontent.com/justmarkham/DAT8/master/data/chipotle.tsv). "
      ]
    },
    {
      "cell_type": "markdown",
      "metadata": {
        "id": "Ie8paGZsIZKH"
      },
      "source": [
        "### Step 3. Assign it to a variable called chipo."
      ]
    },
    {
      "cell_type": "code",
      "metadata": {
        "id": "nOaoOy2oIZKI"
      },
      "source": [
        "url = \"https://raw.githubusercontent.com/justmarkham/DAT8/master/data/chipotle.tsv\"\r\n",
        "chipo = pd.read_csv(url, sep='\\t')"
      ],
      "execution_count": 2,
      "outputs": []
    },
    {
      "cell_type": "markdown",
      "metadata": {
        "id": "l4nJTtEEIZKI"
      },
      "source": [
        "### Step 4. How many products cost more than $10.00?"
      ]
    },
    {
      "cell_type": "code",
      "metadata": {
        "id": "euh5tKTTIZKJ"
      },
      "source": [
        "# Clean item_price and transform the data type to float\r\n",
        "chipo['item_price'] = chipo['item_price'].str.replace('$', '')\r\n",
        "chipo['item_price'] = chipo['item_price'].apply(lambda row: float(row))"
      ],
      "execution_count": 3,
      "outputs": []
    },
    {
      "cell_type": "code",
      "metadata": {
        "id": "iBO1REiaLOX9"
      },
      "source": [
        "# Create a new column for price per item based on order quantity\r\n",
        "chipo['price_per_item'] = chipo['item_price'] / chipo['quantity']"
      ],
      "execution_count": 4,
      "outputs": []
    },
    {
      "cell_type": "code",
      "metadata": {
        "id": "3FA-OqgOLPFg"
      },
      "source": [
        "# Group the items by name and find the maximum item price\r\n",
        "product_prices = chipo.groupby('item_name').agg({'price_per_item':'max'})"
      ],
      "execution_count": 5,
      "outputs": []
    },
    {
      "cell_type": "code",
      "metadata": {
        "id": "PwOWpESANaR9",
        "outputId": "cfaba765-b133-492e-83de-d65c776493ad",
        "colab": {
          "base_uri": "https://localhost:8080/"
        }
      },
      "source": [
        "chipo['item_name'].unique()"
      ],
      "execution_count": 6,
      "outputs": [
        {
          "output_type": "execute_result",
          "data": {
            "text/plain": [
              "array(['Chips and Fresh Tomato Salsa', 'Izze', 'Nantucket Nectar',\n",
              "       'Chips and Tomatillo-Green Chili Salsa', 'Chicken Bowl',\n",
              "       'Side of Chips', 'Steak Burrito', 'Steak Soft Tacos',\n",
              "       'Chips and Guacamole', 'Chicken Crispy Tacos',\n",
              "       'Chicken Soft Tacos', 'Chicken Burrito', 'Canned Soda',\n",
              "       'Barbacoa Burrito', 'Carnitas Burrito', 'Carnitas Bowl',\n",
              "       'Bottled Water', 'Chips and Tomatillo Green Chili Salsa',\n",
              "       'Barbacoa Bowl', 'Chips', 'Chicken Salad Bowl', 'Steak Bowl',\n",
              "       'Barbacoa Soft Tacos', 'Veggie Burrito', 'Veggie Bowl',\n",
              "       'Steak Crispy Tacos', 'Chips and Tomatillo Red Chili Salsa',\n",
              "       'Barbacoa Crispy Tacos', 'Veggie Salad Bowl',\n",
              "       'Chips and Roasted Chili-Corn Salsa',\n",
              "       'Chips and Roasted Chili Corn Salsa', 'Carnitas Soft Tacos',\n",
              "       'Chicken Salad', 'Canned Soft Drink', 'Steak Salad Bowl',\n",
              "       '6 Pack Soft Drink', 'Chips and Tomatillo-Red Chili Salsa', 'Bowl',\n",
              "       'Burrito', 'Crispy Tacos', 'Carnitas Crispy Tacos', 'Steak Salad',\n",
              "       'Chips and Mild Fresh Tomato Salsa', 'Veggie Soft Tacos',\n",
              "       'Carnitas Salad Bowl', 'Barbacoa Salad Bowl', 'Salad',\n",
              "       'Veggie Crispy Tacos', 'Veggie Salad', 'Carnitas Salad'],\n",
              "      dtype=object)"
            ]
          },
          "metadata": {
            "tags": []
          },
          "execution_count": 6
        }
      ]
    },
    {
      "cell_type": "code",
      "metadata": {
        "id": "MYYr1KnVMhoO",
        "outputId": "b90b42b6-7c34-4541-8ed5-af3e4c99be20",
        "colab": {
          "base_uri": "https://localhost:8080/"
        }
      },
      "source": [
        "(product_prices['price_per_item'] > 10).sum()"
      ],
      "execution_count": 7,
      "outputs": [
        {
          "output_type": "execute_result",
          "data": {
            "text/plain": [
              "25"
            ]
          },
          "metadata": {
            "tags": []
          },
          "execution_count": 7
        }
      ]
    },
    {
      "cell_type": "markdown",
      "metadata": {
        "id": "n0msPLSMIZKJ"
      },
      "source": [
        "### Step 5. What is the price of each item? \n",
        "###### print a data frame with only two columns item_name and item_price"
      ]
    },
    {
      "cell_type": "code",
      "metadata": {
        "id": "vOJ9Vku_N67Z",
        "outputId": "1e4625ec-72f6-4331-ebfd-67a835b476bd",
        "colab": {
          "base_uri": "https://localhost:8080/"
        }
      },
      "source": [
        "product_prices.shape"
      ],
      "execution_count": 8,
      "outputs": [
        {
          "output_type": "execute_result",
          "data": {
            "text/plain": [
              "(50, 1)"
            ]
          },
          "metadata": {
            "tags": []
          },
          "execution_count": 8
        }
      ]
    },
    {
      "cell_type": "code",
      "metadata": {
        "id": "uA1_W7owIZKK",
        "outputId": "9c51e11a-c1bd-4f26-c722-81827b72932b",
        "colab": {
          "base_uri": "https://localhost:8080/",
          "height": 390
        }
      },
      "source": [
        "product_prices.head(10)"
      ],
      "execution_count": 9,
      "outputs": [
        {
          "output_type": "execute_result",
          "data": {
            "text/plain": [
              "                       price_per_item\n",
              "item_name                            \n",
              "6 Pack Soft Drink                6.49\n",
              "Barbacoa Bowl                   11.75\n",
              "Barbacoa Burrito                11.75\n",
              "Barbacoa Crispy Tacos           11.75\n",
              "Barbacoa Salad Bowl             11.89\n",
              "Barbacoa Soft Tacos             11.75\n",
              "Bottled Water                    1.50\n",
              "Bowl                             7.40\n",
              "Burrito                          7.40\n",
              "Canned Soda                      1.09"
            ],
            "text/html": [
              "<div>\n",
              "<style scoped>\n",
              "    .dataframe tbody tr th:only-of-type {\n",
              "        vertical-align: middle;\n",
              "    }\n",
              "\n",
              "    .dataframe tbody tr th {\n",
              "        vertical-align: top;\n",
              "    }\n",
              "\n",
              "    .dataframe thead th {\n",
              "        text-align: right;\n",
              "    }\n",
              "</style>\n",
              "<table border=\"1\" class=\"dataframe\">\n",
              "  <thead>\n",
              "    <tr style=\"text-align: right;\">\n",
              "      <th></th>\n",
              "      <th>price_per_item</th>\n",
              "    </tr>\n",
              "    <tr>\n",
              "      <th>item_name</th>\n",
              "      <th></th>\n",
              "    </tr>\n",
              "  </thead>\n",
              "  <tbody>\n",
              "    <tr>\n",
              "      <th>6 Pack Soft Drink</th>\n",
              "      <td>6.49</td>\n",
              "    </tr>\n",
              "    <tr>\n",
              "      <th>Barbacoa Bowl</th>\n",
              "      <td>11.75</td>\n",
              "    </tr>\n",
              "    <tr>\n",
              "      <th>Barbacoa Burrito</th>\n",
              "      <td>11.75</td>\n",
              "    </tr>\n",
              "    <tr>\n",
              "      <th>Barbacoa Crispy Tacos</th>\n",
              "      <td>11.75</td>\n",
              "    </tr>\n",
              "    <tr>\n",
              "      <th>Barbacoa Salad Bowl</th>\n",
              "      <td>11.89</td>\n",
              "    </tr>\n",
              "    <tr>\n",
              "      <th>Barbacoa Soft Tacos</th>\n",
              "      <td>11.75</td>\n",
              "    </tr>\n",
              "    <tr>\n",
              "      <th>Bottled Water</th>\n",
              "      <td>1.50</td>\n",
              "    </tr>\n",
              "    <tr>\n",
              "      <th>Bowl</th>\n",
              "      <td>7.40</td>\n",
              "    </tr>\n",
              "    <tr>\n",
              "      <th>Burrito</th>\n",
              "      <td>7.40</td>\n",
              "    </tr>\n",
              "    <tr>\n",
              "      <th>Canned Soda</th>\n",
              "      <td>1.09</td>\n",
              "    </tr>\n",
              "  </tbody>\n",
              "</table>\n",
              "</div>"
            ]
          },
          "metadata": {
            "tags": []
          },
          "execution_count": 9
        }
      ]
    },
    {
      "cell_type": "markdown",
      "metadata": {
        "id": "5q2nclQ1IZKK"
      },
      "source": [
        "### Step 6. Sort by the name of the item"
      ]
    },
    {
      "cell_type": "code",
      "metadata": {
        "id": "v9q8-hq_IZKL",
        "outputId": "7aafd7e9-cc24-45a3-ec7f-248232d6680e",
        "colab": {
          "base_uri": "https://localhost:8080/",
          "height": 204
        }
      },
      "source": [
        "chipo.sort_values('item_name').head()"
      ],
      "execution_count": 10,
      "outputs": [
        {
          "output_type": "execute_result",
          "data": {
            "text/plain": [
              "      order_id  quantity          item_name choice_description  item_price  \\\n",
              "3389      1360         2  6 Pack Soft Drink        [Diet Coke]       12.98   \n",
              "341        148         1  6 Pack Soft Drink        [Diet Coke]        6.49   \n",
              "1849       749         1  6 Pack Soft Drink             [Coke]        6.49   \n",
              "1860       754         1  6 Pack Soft Drink        [Diet Coke]        6.49   \n",
              "2713      1076         1  6 Pack Soft Drink             [Coke]        6.49   \n",
              "\n",
              "      price_per_item  \n",
              "3389            6.49  \n",
              "341             6.49  \n",
              "1849            6.49  \n",
              "1860            6.49  \n",
              "2713            6.49  "
            ],
            "text/html": [
              "<div>\n",
              "<style scoped>\n",
              "    .dataframe tbody tr th:only-of-type {\n",
              "        vertical-align: middle;\n",
              "    }\n",
              "\n",
              "    .dataframe tbody tr th {\n",
              "        vertical-align: top;\n",
              "    }\n",
              "\n",
              "    .dataframe thead th {\n",
              "        text-align: right;\n",
              "    }\n",
              "</style>\n",
              "<table border=\"1\" class=\"dataframe\">\n",
              "  <thead>\n",
              "    <tr style=\"text-align: right;\">\n",
              "      <th></th>\n",
              "      <th>order_id</th>\n",
              "      <th>quantity</th>\n",
              "      <th>item_name</th>\n",
              "      <th>choice_description</th>\n",
              "      <th>item_price</th>\n",
              "      <th>price_per_item</th>\n",
              "    </tr>\n",
              "  </thead>\n",
              "  <tbody>\n",
              "    <tr>\n",
              "      <th>3389</th>\n",
              "      <td>1360</td>\n",
              "      <td>2</td>\n",
              "      <td>6 Pack Soft Drink</td>\n",
              "      <td>[Diet Coke]</td>\n",
              "      <td>12.98</td>\n",
              "      <td>6.49</td>\n",
              "    </tr>\n",
              "    <tr>\n",
              "      <th>341</th>\n",
              "      <td>148</td>\n",
              "      <td>1</td>\n",
              "      <td>6 Pack Soft Drink</td>\n",
              "      <td>[Diet Coke]</td>\n",
              "      <td>6.49</td>\n",
              "      <td>6.49</td>\n",
              "    </tr>\n",
              "    <tr>\n",
              "      <th>1849</th>\n",
              "      <td>749</td>\n",
              "      <td>1</td>\n",
              "      <td>6 Pack Soft Drink</td>\n",
              "      <td>[Coke]</td>\n",
              "      <td>6.49</td>\n",
              "      <td>6.49</td>\n",
              "    </tr>\n",
              "    <tr>\n",
              "      <th>1860</th>\n",
              "      <td>754</td>\n",
              "      <td>1</td>\n",
              "      <td>6 Pack Soft Drink</td>\n",
              "      <td>[Diet Coke]</td>\n",
              "      <td>6.49</td>\n",
              "      <td>6.49</td>\n",
              "    </tr>\n",
              "    <tr>\n",
              "      <th>2713</th>\n",
              "      <td>1076</td>\n",
              "      <td>1</td>\n",
              "      <td>6 Pack Soft Drink</td>\n",
              "      <td>[Coke]</td>\n",
              "      <td>6.49</td>\n",
              "      <td>6.49</td>\n",
              "    </tr>\n",
              "  </tbody>\n",
              "</table>\n",
              "</div>"
            ]
          },
          "metadata": {
            "tags": []
          },
          "execution_count": 10
        }
      ]
    },
    {
      "cell_type": "markdown",
      "metadata": {
        "id": "C1nPx0l8IZKL"
      },
      "source": [
        "### Step 7. What was the quantity of the most expensive item ordered?"
      ]
    },
    {
      "cell_type": "code",
      "metadata": {
        "id": "nRbswUDTIZKM",
        "outputId": "93015840-184c-4269-fa7d-6fb068b7c768",
        "colab": {
          "base_uri": "https://localhost:8080/"
        }
      },
      "source": [
        "# Sort the item_price column in descending order\r\n",
        "chipo.sort_values('item_price', ascending=False).head(1)['quantity']"
      ],
      "execution_count": 11,
      "outputs": [
        {
          "output_type": "execute_result",
          "data": {
            "text/plain": [
              "3598    15\n",
              "Name: quantity, dtype: int64"
            ]
          },
          "metadata": {
            "tags": []
          },
          "execution_count": 11
        }
      ]
    },
    {
      "cell_type": "markdown",
      "metadata": {
        "id": "TJFiqA_BIZKM"
      },
      "source": [
        "### Step 8. How many times was a Veggie Salad Bowl ordered?"
      ]
    },
    {
      "cell_type": "code",
      "metadata": {
        "id": "jgwcBBuWIZKM",
        "outputId": "e9671fae-2750-46df-e965-b75de55966ee",
        "colab": {
          "base_uri": "https://localhost:8080/"
        }
      },
      "source": [
        "salad_bowl = chipo[chipo['item_name'] == 'Veggie Salad Bowl']\r\n",
        "salad_bowl['quantity'].sum()"
      ],
      "execution_count": 12,
      "outputs": [
        {
          "output_type": "execute_result",
          "data": {
            "text/plain": [
              "18"
            ]
          },
          "metadata": {
            "tags": []
          },
          "execution_count": 12
        }
      ]
    },
    {
      "cell_type": "markdown",
      "metadata": {
        "id": "d7dQPxDFIZKN"
      },
      "source": [
        "### Step 9. How many times did someone order more than one Canned Soda?"
      ]
    },
    {
      "cell_type": "code",
      "metadata": {
        "id": "-YlqpgIwIZKN",
        "outputId": "b37802c9-2bf5-4501-df03-0f5f9e1edef3",
        "colab": {
          "base_uri": "https://localhost:8080/"
        }
      },
      "source": [
        "canned_soda = chipo[(chipo['item_name']=='Canned Soda') & (chipo['quantity'] > 1)]\r\n",
        "print(len(canned_soda))"
      ],
      "execution_count": 13,
      "outputs": [
        {
          "output_type": "stream",
          "text": [
            "20\n"
          ],
          "name": "stdout"
        }
      ]
    }
  ]
}