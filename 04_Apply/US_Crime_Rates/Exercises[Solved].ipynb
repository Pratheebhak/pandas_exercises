{
  "nbformat": 4,
  "nbformat_minor": 0,
  "metadata": {
    "anaconda-cloud": {},
    "kernelspec": {
      "display_name": "Python [default]",
      "language": "python",
      "name": "python2"
    },
    "language_info": {
      "codemirror_mode": {
        "name": "ipython",
        "version": 2
      },
      "file_extension": ".py",
      "mimetype": "text/x-python",
      "name": "python",
      "nbconvert_exporter": "python",
      "pygments_lexer": "ipython2",
      "version": "2.7.12"
    },
    "colab": {
      "name": "Exercises.ipynb",
      "provenance": []
    }
  },
  "cells": [
    {
      "cell_type": "markdown",
      "metadata": {
        "id": "yOOCet_hW97i"
      },
      "source": [
        "# United States - Crime Rates - 1960 - 2014"
      ]
    },
    {
      "cell_type": "markdown",
      "metadata": {
        "id": "ZCP-SIUgW97u"
      },
      "source": [
        "### Introduction:\n",
        "\n",
        "This time you will create a data \n",
        "\n",
        "Special thanks to: https://github.com/justmarkham for sharing the dataset and materials.\n",
        "\n",
        "### Step 1. Import the necessary libraries"
      ]
    },
    {
      "cell_type": "code",
      "metadata": {
        "id": "9fuAB3oDW97w"
      },
      "source": [
        "import numpy as np\r\n",
        "import pandas as pd"
      ],
      "execution_count": 1,
      "outputs": []
    },
    {
      "cell_type": "markdown",
      "metadata": {
        "id": "3DIPbkY9W97y"
      },
      "source": [
        "### Step 2. Import the dataset from this [address](https://raw.githubusercontent.com/guipsamora/pandas_exercises/master/04_Apply/US_Crime_Rates/US_Crime_Rates_1960_2014.csv). "
      ]
    },
    {
      "cell_type": "markdown",
      "metadata": {
        "id": "BhdY6Z9nW97y"
      },
      "source": [
        "### Step 3. Assign it to a variable called crime."
      ]
    },
    {
      "cell_type": "code",
      "metadata": {
        "id": "T2vUMGSYW97z"
      },
      "source": [
        "url = \"https://raw.githubusercontent.com/guipsamora/pandas_exercises/master/04_Apply/US_Crime_Rates/US_Crime_Rates_1960_2014.csv\"\r\n",
        "crime = pd.read_csv(url)"
      ],
      "execution_count": 2,
      "outputs": []
    },
    {
      "cell_type": "code",
      "metadata": {
        "id": "rglkE3q2XRhz",
        "outputId": "515613ed-e73d-4c37-fd86-037c7da91d88",
        "colab": {
          "base_uri": "https://localhost:8080/",
          "height": 359
        }
      },
      "source": [
        "crime.head(10)"
      ],
      "execution_count": 3,
      "outputs": [
        {
          "output_type": "execute_result",
          "data": {
            "text/plain": [
              "   Year  Population    Total  Violent  Property  Murder  Forcible_Rape  \\\n",
              "0  1960   179323175  3384200   288460   3095700    9110          17190   \n",
              "1  1961   182992000  3488000   289390   3198600    8740          17220   \n",
              "2  1962   185771000  3752200   301510   3450700    8530          17550   \n",
              "3  1963   188483000  4109500   316970   3792500    8640          17650   \n",
              "4  1964   191141000  4564600   364220   4200400    9360          21420   \n",
              "5  1965   193526000  4739400   387390   4352000    9960          23410   \n",
              "6  1966   195576000  5223500   430180   4793300   11040          25820   \n",
              "7  1967   197457000  5903400   499930   5403500   12240          27620   \n",
              "8  1968   199399000  6720200   595010   6125200   13800          31670   \n",
              "9  1969   201385000  7410900   661870   6749000   14760          37170   \n",
              "\n",
              "   Robbery  Aggravated_assault  Burglary  Larceny_Theft  Vehicle_Theft  \n",
              "0   107840              154320    912100        1855400         328200  \n",
              "1   106670              156760    949600        1913000         336000  \n",
              "2   110860              164570    994300        2089600         366800  \n",
              "3   116470              174210   1086400        2297800         408300  \n",
              "4   130390              203050   1213200        2514400         472800  \n",
              "5   138690              215330   1282500        2572600         496900  \n",
              "6   157990              235330   1410100        2822000         561200  \n",
              "7   202910              257160   1632100        3111600         659800  \n",
              "8   262840              286700   1858900        3482700         783600  \n",
              "9   298850              311090   1981900        3888600         878500  "
            ],
            "text/html": [
              "<div>\n",
              "<style scoped>\n",
              "    .dataframe tbody tr th:only-of-type {\n",
              "        vertical-align: middle;\n",
              "    }\n",
              "\n",
              "    .dataframe tbody tr th {\n",
              "        vertical-align: top;\n",
              "    }\n",
              "\n",
              "    .dataframe thead th {\n",
              "        text-align: right;\n",
              "    }\n",
              "</style>\n",
              "<table border=\"1\" class=\"dataframe\">\n",
              "  <thead>\n",
              "    <tr style=\"text-align: right;\">\n",
              "      <th></th>\n",
              "      <th>Year</th>\n",
              "      <th>Population</th>\n",
              "      <th>Total</th>\n",
              "      <th>Violent</th>\n",
              "      <th>Property</th>\n",
              "      <th>Murder</th>\n",
              "      <th>Forcible_Rape</th>\n",
              "      <th>Robbery</th>\n",
              "      <th>Aggravated_assault</th>\n",
              "      <th>Burglary</th>\n",
              "      <th>Larceny_Theft</th>\n",
              "      <th>Vehicle_Theft</th>\n",
              "    </tr>\n",
              "  </thead>\n",
              "  <tbody>\n",
              "    <tr>\n",
              "      <th>0</th>\n",
              "      <td>1960</td>\n",
              "      <td>179323175</td>\n",
              "      <td>3384200</td>\n",
              "      <td>288460</td>\n",
              "      <td>3095700</td>\n",
              "      <td>9110</td>\n",
              "      <td>17190</td>\n",
              "      <td>107840</td>\n",
              "      <td>154320</td>\n",
              "      <td>912100</td>\n",
              "      <td>1855400</td>\n",
              "      <td>328200</td>\n",
              "    </tr>\n",
              "    <tr>\n",
              "      <th>1</th>\n",
              "      <td>1961</td>\n",
              "      <td>182992000</td>\n",
              "      <td>3488000</td>\n",
              "      <td>289390</td>\n",
              "      <td>3198600</td>\n",
              "      <td>8740</td>\n",
              "      <td>17220</td>\n",
              "      <td>106670</td>\n",
              "      <td>156760</td>\n",
              "      <td>949600</td>\n",
              "      <td>1913000</td>\n",
              "      <td>336000</td>\n",
              "    </tr>\n",
              "    <tr>\n",
              "      <th>2</th>\n",
              "      <td>1962</td>\n",
              "      <td>185771000</td>\n",
              "      <td>3752200</td>\n",
              "      <td>301510</td>\n",
              "      <td>3450700</td>\n",
              "      <td>8530</td>\n",
              "      <td>17550</td>\n",
              "      <td>110860</td>\n",
              "      <td>164570</td>\n",
              "      <td>994300</td>\n",
              "      <td>2089600</td>\n",
              "      <td>366800</td>\n",
              "    </tr>\n",
              "    <tr>\n",
              "      <th>3</th>\n",
              "      <td>1963</td>\n",
              "      <td>188483000</td>\n",
              "      <td>4109500</td>\n",
              "      <td>316970</td>\n",
              "      <td>3792500</td>\n",
              "      <td>8640</td>\n",
              "      <td>17650</td>\n",
              "      <td>116470</td>\n",
              "      <td>174210</td>\n",
              "      <td>1086400</td>\n",
              "      <td>2297800</td>\n",
              "      <td>408300</td>\n",
              "    </tr>\n",
              "    <tr>\n",
              "      <th>4</th>\n",
              "      <td>1964</td>\n",
              "      <td>191141000</td>\n",
              "      <td>4564600</td>\n",
              "      <td>364220</td>\n",
              "      <td>4200400</td>\n",
              "      <td>9360</td>\n",
              "      <td>21420</td>\n",
              "      <td>130390</td>\n",
              "      <td>203050</td>\n",
              "      <td>1213200</td>\n",
              "      <td>2514400</td>\n",
              "      <td>472800</td>\n",
              "    </tr>\n",
              "    <tr>\n",
              "      <th>5</th>\n",
              "      <td>1965</td>\n",
              "      <td>193526000</td>\n",
              "      <td>4739400</td>\n",
              "      <td>387390</td>\n",
              "      <td>4352000</td>\n",
              "      <td>9960</td>\n",
              "      <td>23410</td>\n",
              "      <td>138690</td>\n",
              "      <td>215330</td>\n",
              "      <td>1282500</td>\n",
              "      <td>2572600</td>\n",
              "      <td>496900</td>\n",
              "    </tr>\n",
              "    <tr>\n",
              "      <th>6</th>\n",
              "      <td>1966</td>\n",
              "      <td>195576000</td>\n",
              "      <td>5223500</td>\n",
              "      <td>430180</td>\n",
              "      <td>4793300</td>\n",
              "      <td>11040</td>\n",
              "      <td>25820</td>\n",
              "      <td>157990</td>\n",
              "      <td>235330</td>\n",
              "      <td>1410100</td>\n",
              "      <td>2822000</td>\n",
              "      <td>561200</td>\n",
              "    </tr>\n",
              "    <tr>\n",
              "      <th>7</th>\n",
              "      <td>1967</td>\n",
              "      <td>197457000</td>\n",
              "      <td>5903400</td>\n",
              "      <td>499930</td>\n",
              "      <td>5403500</td>\n",
              "      <td>12240</td>\n",
              "      <td>27620</td>\n",
              "      <td>202910</td>\n",
              "      <td>257160</td>\n",
              "      <td>1632100</td>\n",
              "      <td>3111600</td>\n",
              "      <td>659800</td>\n",
              "    </tr>\n",
              "    <tr>\n",
              "      <th>8</th>\n",
              "      <td>1968</td>\n",
              "      <td>199399000</td>\n",
              "      <td>6720200</td>\n",
              "      <td>595010</td>\n",
              "      <td>6125200</td>\n",
              "      <td>13800</td>\n",
              "      <td>31670</td>\n",
              "      <td>262840</td>\n",
              "      <td>286700</td>\n",
              "      <td>1858900</td>\n",
              "      <td>3482700</td>\n",
              "      <td>783600</td>\n",
              "    </tr>\n",
              "    <tr>\n",
              "      <th>9</th>\n",
              "      <td>1969</td>\n",
              "      <td>201385000</td>\n",
              "      <td>7410900</td>\n",
              "      <td>661870</td>\n",
              "      <td>6749000</td>\n",
              "      <td>14760</td>\n",
              "      <td>37170</td>\n",
              "      <td>298850</td>\n",
              "      <td>311090</td>\n",
              "      <td>1981900</td>\n",
              "      <td>3888600</td>\n",
              "      <td>878500</td>\n",
              "    </tr>\n",
              "  </tbody>\n",
              "</table>\n",
              "</div>"
            ]
          },
          "metadata": {
            "tags": []
          },
          "execution_count": 3
        }
      ]
    },
    {
      "cell_type": "markdown",
      "metadata": {
        "id": "FANcAsdZW97z"
      },
      "source": [
        "### Step 4. What is the type of the columns?"
      ]
    },
    {
      "cell_type": "code",
      "metadata": {
        "id": "egnssq5KW970",
        "outputId": "32459fff-b12d-4dde-8ffa-bf93a32f1359",
        "colab": {
          "base_uri": "https://localhost:8080/"
        }
      },
      "source": [
        "crime.dtypes"
      ],
      "execution_count": 4,
      "outputs": [
        {
          "output_type": "execute_result",
          "data": {
            "text/plain": [
              "Year                  int64\n",
              "Population            int64\n",
              "Total                 int64\n",
              "Violent               int64\n",
              "Property              int64\n",
              "Murder                int64\n",
              "Forcible_Rape         int64\n",
              "Robbery               int64\n",
              "Aggravated_assault    int64\n",
              "Burglary              int64\n",
              "Larceny_Theft         int64\n",
              "Vehicle_Theft         int64\n",
              "dtype: object"
            ]
          },
          "metadata": {
            "tags": []
          },
          "execution_count": 4
        }
      ]
    },
    {
      "cell_type": "markdown",
      "metadata": {
        "id": "tNhUhgiuW970"
      },
      "source": [
        "##### Have you noticed that the type of Year is int64. But pandas has a different type to work with Time Series. Let's see it now.\n",
        "\n",
        "### Step 5. Convert the type of the column Year to datetime64"
      ]
    },
    {
      "cell_type": "code",
      "metadata": {
        "id": "OGhKJTNCW971"
      },
      "source": [
        "crime['Year_datetime'] = pd.to_datetime(crime['Year'])"
      ],
      "execution_count": 5,
      "outputs": []
    },
    {
      "cell_type": "code",
      "metadata": {
        "id": "tCQYi3D1XuBf",
        "outputId": "d1d87ca9-f090-4a3d-f2c6-534c9e2983c5",
        "colab": {
          "base_uri": "https://localhost:8080/"
        }
      },
      "source": [
        "crime.dtypes"
      ],
      "execution_count": 6,
      "outputs": [
        {
          "output_type": "execute_result",
          "data": {
            "text/plain": [
              "Year                           int64\n",
              "Population                     int64\n",
              "Total                          int64\n",
              "Violent                        int64\n",
              "Property                       int64\n",
              "Murder                         int64\n",
              "Forcible_Rape                  int64\n",
              "Robbery                        int64\n",
              "Aggravated_assault             int64\n",
              "Burglary                       int64\n",
              "Larceny_Theft                  int64\n",
              "Vehicle_Theft                  int64\n",
              "Year_datetime         datetime64[ns]\n",
              "dtype: object"
            ]
          },
          "metadata": {
            "tags": []
          },
          "execution_count": 6
        }
      ]
    },
    {
      "cell_type": "markdown",
      "metadata": {
        "id": "JA-5jdjEW971"
      },
      "source": [
        "### Step 6. Set the Year column as the index of the dataframe"
      ]
    },
    {
      "cell_type": "code",
      "metadata": {
        "id": "5CLMfkhUW972"
      },
      "source": [
        "crime = crime.set_index(['Year_datetime'])"
      ],
      "execution_count": 7,
      "outputs": []
    },
    {
      "cell_type": "markdown",
      "metadata": {
        "id": "5TmnTHbqW972"
      },
      "source": [
        "### Step 7. Delete the Total column"
      ]
    },
    {
      "cell_type": "code",
      "metadata": {
        "id": "m71Ba_BVW973"
      },
      "source": [
        "del crime['Total']"
      ],
      "execution_count": 8,
      "outputs": []
    },
    {
      "cell_type": "markdown",
      "metadata": {
        "id": "ARdU49CQW973"
      },
      "source": [
        "### Step 8. Group the year by decades and sum the values\n",
        "\n",
        "#### Pay attention to the Population column number, summing this column is a mistake"
      ]
    },
    {
      "cell_type": "code",
      "metadata": {
        "scrolled": true,
        "id": "ibs97o7LW974"
      },
      "source": [
        "# Split the years into corresponding decade\r\n",
        "crime['Decade'] = crime.Year // 10"
      ],
      "execution_count": 9,
      "outputs": []
    },
    {
      "cell_type": "code",
      "metadata": {
        "id": "GfIfFrEjbcOj"
      },
      "source": [
        "# GroupBy Decade\r\n",
        "crimes_decade = crime.groupby('Decade').agg({ 'Year': 'size',\r\n",
        "                              'Violent': 'sum',\r\n",
        "                              'Property': 'sum',\r\n",
        "                              'Murder': 'sum',\r\n",
        "                              'Forcible_Rape': 'sum',\r\n",
        "                              'Robbery': 'sum',\r\n",
        "                              'Aggravated_assault': 'sum',\r\n",
        "                              'Burglary': 'sum',\r\n",
        "                              'Larceny_Theft': 'sum',\r\n",
        "                              'Vehicle_Theft': 'sum',\r\n",
        "                              'Population':'last'})"
      ],
      "execution_count": 10,
      "outputs": []
    },
    {
      "cell_type": "markdown",
      "metadata": {
        "id": "jGvpzSK7W974"
      },
      "source": [
        "### Step 9. What is the most dangerous decade to live in the US?"
      ]
    },
    {
      "cell_type": "code",
      "metadata": {
        "id": "H3S5o6VpW975",
        "outputId": "d069cf76-26a0-4829-a159-9b2c8268a748",
        "colab": {
          "base_uri": "https://localhost:8080/"
        }
      },
      "source": [
        "crimes_decade['Violent']/crimes_decade['Population']\r\n",
        "# The 90's seems to be the most dangerous decade to live in"
      ],
      "execution_count": 11,
      "outputs": [
        {
          "output_type": "execute_result",
          "data": {
            "text/plain": [
              "Decade\n",
              "196    0.020532\n",
              "197    0.043653\n",
              "198    0.056697\n",
              "199    0.064274\n",
              "200    0.045498\n",
              "201    0.019043\n",
              "dtype: float64"
            ]
          },
          "metadata": {
            "tags": []
          },
          "execution_count": 11
        }
      ]
    }
  ]
}